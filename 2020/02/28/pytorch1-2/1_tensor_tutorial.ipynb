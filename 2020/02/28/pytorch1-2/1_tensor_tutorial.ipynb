{
 "cells": [
  {
   "cell_type": "code",
   "execution_count": 1,
   "metadata": {},
   "outputs": [],
   "source": [
    "%matplotlib inline"
   ]
  },
  {
   "cell_type": "markdown",
   "metadata": {},
   "source": [
    "# PyTorch是什么？\n",
    "基于Python的科学计算包，服务于以下两种场景\n",
    "* 作为NumPy的替代品，可以使用GPU的强大计算能力\n",
    "* 提供最大的灵活性和高速的深度学习研究平台\n",
    "\n",
    "# 开始\n",
    "Tensors(张量)\n",
    "\n",
    "Tensors与Numpy中的ndarrays类似，但是在PyTorch中Tensors可以使用GPU进行计算。"
   ]
  },
  {
   "cell_type": "code",
   "execution_count": 2,
   "metadata": {},
   "outputs": [],
   "source": [
    "from __future__ import print_function\n",
    "import torch"
   ]
  },
  {
   "cell_type": "markdown",
   "metadata": {},
   "source": [
    "创建一个5×3矩阵，但是未初始化"
   ]
  },
  {
   "cell_type": "code",
   "execution_count": 3,
   "metadata": {},
   "outputs": [
    {
     "name": "stdout",
     "output_type": "stream",
     "text": [
      "tensor([[-7.2630e-28,  4.5729e-41, -7.2630e-28],\n",
      "        [ 4.5729e-41,         nan,  3.0970e-41],\n",
      "        [ 1.7753e+28,  4.4339e+27,  5.6719e-11],\n",
      "        [ 7.3471e+28,  2.6383e+23,  2.7376e+20],\n",
      "        [ 1.8040e+28,  1.8750e-19,  7.3909e+22]])\n"
     ]
    }
   ],
   "source": [
    "x = torch.empty(5,3)\n",
    "print(x)"
   ]
  },
  {
   "cell_type": "markdown",
   "metadata": {},
   "source": [
    "创建一个随机初始化的矩阵"
   ]
  },
  {
   "cell_type": "code",
   "execution_count": 4,
   "metadata": {},
   "outputs": [
    {
     "name": "stdout",
     "output_type": "stream",
     "text": [
      "tensor([[0.6957, 0.8565, 0.7844],\n",
      "        [0.3198, 0.9460, 0.4244],\n",
      "        [0.7566, 0.7370, 0.6519],\n",
      "        [0.7324, 0.3396, 0.7447],\n",
      "        [0.1074, 0.1667, 0.0326]])\n"
     ]
    }
   ],
   "source": [
    "x = torch.rand(5,3)\n",
    "print(x)"
   ]
  },
  {
   "cell_type": "markdown",
   "metadata": {},
   "source": [
    "创建一个0填充的矩阵，数据类型为long"
   ]
  },
  {
   "cell_type": "code",
   "execution_count": 5,
   "metadata": {},
   "outputs": [
    {
     "name": "stdout",
     "output_type": "stream",
     "text": [
      "tensor([[0, 0, 0],\n",
      "        [0, 0, 0],\n",
      "        [0, 0, 0],\n",
      "        [0, 0, 0],\n",
      "        [0, 0, 0]])\n"
     ]
    }
   ],
   "source": [
    "x = torch.zeros(5,3,dtype=torch.long)\n",
    "print(x)"
   ]
  },
  {
   "cell_type": "markdown",
   "metadata": {},
   "source": [
    "创建tensor并使用现有数据初始化"
   ]
  },
  {
   "cell_type": "code",
   "execution_count": 6,
   "metadata": {},
   "outputs": [
    {
     "name": "stdout",
     "output_type": "stream",
     "text": [
      "tensor([5.5000, 3.0000])\n"
     ]
    }
   ],
   "source": [
    "x = torch.tensor([5.5,3])\n",
    "print(x)"
   ]
  },
  {
   "cell_type": "markdown",
   "metadata": {},
   "source": [
    "使用现有的张量创建张量。这些方法将重用输入张量的属性，例如，dtype,除非设置新的值进行覆盖"
   ]
  },
  {
   "cell_type": "code",
   "execution_count": 7,
   "metadata": {},
   "outputs": [
    {
     "name": "stdout",
     "output_type": "stream",
     "text": [
      "tensor([[1., 1., 1.],\n",
      "        [1., 1., 1.],\n",
      "        [1., 1., 1.],\n",
      "        [1., 1., 1.],\n",
      "        [1., 1., 1.]], dtype=torch.float64)\n",
      "tensor([[ 0.2724, -2.0907, -0.6096],\n",
      "        [-0.3521,  1.9110, -0.0053],\n",
      "        [ 1.6634,  1.4252, -0.0778],\n",
      "        [ 1.1623, -0.3941, -0.8029],\n",
      "        [ 0.8197,  0.0218, -1.7554]])\n"
     ]
    }
   ],
   "source": [
    "x = x.new_ones(5,3,dtype=torch.double) #new_*方法来创建对象\n",
    "print(x)\n",
    "\n",
    "x = torch.randn_like(x,dtype = torch.float) #覆盖dtype!\n",
    "print(x)                                    #d对象的size相同，值和类型发生变化  "
   ]
  },
  {
   "cell_type": "markdown",
   "metadata": {},
   "source": [
    "获取size"
   ]
  },
  {
   "cell_type": "code",
   "execution_count": 8,
   "metadata": {},
   "outputs": [
    {
     "name": "stdout",
     "output_type": "stream",
     "text": [
      "torch.Size([5, 3])\n"
     ]
    }
   ],
   "source": [
    "print(x.size())"
   ]
  },
  {
   "cell_type": "markdown",
   "metadata": {},
   "source": [
    "\"torch.Size\"返回值是tuple类型，支持tuple类型的所有操作"
   ]
  },
  {
   "cell_type": "markdown",
   "metadata": {},
   "source": [
    "加法1："
   ]
  },
  {
   "cell_type": "code",
   "execution_count": 9,
   "metadata": {},
   "outputs": [
    {
     "name": "stdout",
     "output_type": "stream",
     "text": [
      "tensor([[ 3.0160e-01, -1.1085e+00,  3.4606e-01],\n",
      "        [ 4.3867e-02,  2.1488e+00,  4.5966e-01],\n",
      "        [ 2.5710e+00,  1.6776e+00,  8.5985e-01],\n",
      "        [ 1.8511e+00, -2.2450e-01, -1.7348e-03],\n",
      "        [ 1.2764e+00,  2.9380e-01, -1.3293e+00]])\n"
     ]
    }
   ],
   "source": [
    "y = torch.rand(5,3)\n",
    "print(x+y)"
   ]
  },
  {
   "cell_type": "markdown",
   "metadata": {},
   "source": [
    "加法2"
   ]
  },
  {
   "cell_type": "code",
   "execution_count": 10,
   "metadata": {},
   "outputs": [
    {
     "name": "stdout",
     "output_type": "stream",
     "text": [
      "tensor([[ 3.0160e-01, -1.1085e+00,  3.4606e-01],\n",
      "        [ 4.3867e-02,  2.1488e+00,  4.5966e-01],\n",
      "        [ 2.5710e+00,  1.6776e+00,  8.5985e-01],\n",
      "        [ 1.8511e+00, -2.2450e-01, -1.7348e-03],\n",
      "        [ 1.2764e+00,  2.9380e-01, -1.3293e+00]])\n"
     ]
    }
   ],
   "source": [
    "print(torch.add(x, y))"
   ]
  },
  {
   "cell_type": "markdown",
   "metadata": {},
   "source": [
    "提供输出tensor作为参数(结果被填充到result作为参数）"
   ]
  },
  {
   "cell_type": "code",
   "execution_count": 11,
   "metadata": {},
   "outputs": [
    {
     "name": "stdout",
     "output_type": "stream",
     "text": [
      "tensor([[0., 0., 0.],\n",
      "        [0., 0., 0.],\n",
      "        [0., 0., 0.],\n",
      "        [0., 0., 0.],\n",
      "        [0., 0., 0.]])\n",
      "tensor([[ 3.0160e-01, -1.1085e+00,  3.4606e-01],\n",
      "        [ 4.3867e-02,  2.1488e+00,  4.5966e-01],\n",
      "        [ 2.5710e+00,  1.6776e+00,  8.5985e-01],\n",
      "        [ 1.8511e+00, -2.2450e-01, -1.7348e-03],\n",
      "        [ 1.2764e+00,  2.9380e-01, -1.3293e+00]])\n"
     ]
    }
   ],
   "source": [
    "result = torch.empty(5,3)\n",
    "print(result)\n",
    "torch.add(x,y,out=result)\n",
    "print(result)"
   ]
  },
  {
   "cell_type": "markdown",
   "metadata": {},
   "source": [
    "替换（任何以“_”结尾的操作都会用结果替换原变量）"
   ]
  },
  {
   "cell_type": "code",
   "execution_count": 12,
   "metadata": {},
   "outputs": [
    {
     "name": "stdout",
     "output_type": "stream",
     "text": [
      "tensor([[ 3.0160e-01, -1.1085e+00,  3.4606e-01],\n",
      "        [ 4.3867e-02,  2.1488e+00,  4.5966e-01],\n",
      "        [ 2.5710e+00,  1.6776e+00,  8.5985e-01],\n",
      "        [ 1.8511e+00, -2.2450e-01, -1.7348e-03],\n",
      "        [ 1.2764e+00,  2.9380e-01, -1.3293e+00]])\n"
     ]
    }
   ],
   "source": [
    "#add x to y\n",
    "y.add_(x)\n",
    "print(y)"
   ]
  },
  {
   "cell_type": "markdown",
   "metadata": {},
   "source": [
    "你可以使用与NumPy索引方式相同的操作来进行对张量的操作"
   ]
  },
  {
   "cell_type": "code",
   "execution_count": 13,
   "metadata": {},
   "outputs": [
    {
     "name": "stdout",
     "output_type": "stream",
     "text": [
      "tensor([-2.0907,  1.9110,  1.4252, -0.3941,  0.0218])\n"
     ]
    }
   ],
   "source": [
    "print(x[:,1])"
   ]
  },
  {
   "cell_type": "markdown",
   "metadata": {},
   "source": [
    "torch.view():可以改变张量的维度和大小"
   ]
  },
  {
   "cell_type": "code",
   "execution_count": 14,
   "metadata": {},
   "outputs": [
    {
     "name": "stdout",
     "output_type": "stream",
     "text": [
      "torch.Size([4, 4]) torch.Size([16]) torch.Size([2, 8])\n"
     ]
    }
   ],
   "source": [
    "x = torch.randn(4,4)\n",
    "y = x.view(16)\n",
    "z = x.view(-1,8) #size -1 从其他维度推断\n",
    "print(x.size(), y.size(), z.size())"
   ]
  },
  {
   "cell_type": "markdown",
   "metadata": {},
   "source": [
    "如果你只有一个元素的张量，使用.item()来得到Python数据类型的数值"
   ]
  },
  {
   "cell_type": "code",
   "execution_count": 15,
   "metadata": {},
   "outputs": [
    {
     "name": "stdout",
     "output_type": "stream",
     "text": [
      "tensor([1.0249])\n",
      "1.0248878002166748\n"
     ]
    }
   ],
   "source": [
    "x =torch.randn(1)\n",
    "print(x)\n",
    "print(x.item())"
   ]
  },
  {
   "cell_type": "markdown",
   "metadata": {},
   "source": [
    "如果你想要了解更多的关于Tensor的操作，可以访问[PyTorch官方文档](https://pytorch.org/docs/torch \"Tensors\")"
   ]
  },
  {
   "cell_type": "markdown",
   "metadata": {},
   "source": [
    "# NumPy转换\n",
    "将一个Torch Tensor转换为NumPy数组是一件轻松的事，反之亦然。  \n",
    "Torch Tensor与NumPy数组共享底层内存地址，修改一个会导致另一个的变化。\n",
    "  \n",
    "将一个Torch Tensor转换为NumPy数组"
   ]
  },
  {
   "cell_type": "code",
   "execution_count": 16,
   "metadata": {},
   "outputs": [
    {
     "name": "stdout",
     "output_type": "stream",
     "text": [
      "tensor([1., 1., 1., 1., 1.])\n"
     ]
    }
   ],
   "source": [
    "a = torch.ones(5)\n",
    "print(a)"
   ]
  },
  {
   "cell_type": "code",
   "execution_count": 17,
   "metadata": {},
   "outputs": [
    {
     "name": "stdout",
     "output_type": "stream",
     "text": [
      "[1. 1. 1. 1. 1.]\n"
     ]
    }
   ],
   "source": [
    "b = a.numpy()\n",
    "print(b)"
   ]
  },
  {
   "cell_type": "markdown",
   "metadata": {},
   "source": [
    "观察numpy数组的值是如何改变的。"
   ]
  },
  {
   "cell_type": "code",
   "execution_count": 18,
   "metadata": {},
   "outputs": [
    {
     "name": "stdout",
     "output_type": "stream",
     "text": [
      "tensor([2., 2., 2., 2., 2.])\n",
      "[2. 2. 2. 2. 2.]\n"
     ]
    }
   ],
   "source": [
    "a.add_(1)\n",
    "print(a)\n",
    "print(b)"
   ]
  },
  {
   "cell_type": "markdown",
   "metadata": {},
   "source": [
    "NumPy Array转化成Torch Tensor  \n",
    "  \n",
    "使用from_numpy自动转化"
   ]
  },
  {
   "cell_type": "code",
   "execution_count": 19,
   "metadata": {},
   "outputs": [
    {
     "name": "stdout",
     "output_type": "stream",
     "text": [
      "[2. 2. 2. 2. 2.]\n",
      "tensor([2., 2., 2., 2., 2.], dtype=torch.float64)\n"
     ]
    }
   ],
   "source": [
    "import numpy as np\n",
    "a = np.ones(5)\n",
    "b = torch.from_numpy(a)\n",
    "np.add(a, 1, out=a)\n",
    "print(a)\n",
    "print(b)"
   ]
  },
  {
   "cell_type": "markdown",
   "metadata": {},
   "source": [
    "所有的Tensor类型默认都是基于CPU，CharTensor类型不支持到NumPy的转换。\n",
    "# CUDA张量\n",
    "使用.to方法可以将Tensor移动到任何设备中"
   ]
  },
  {
   "cell_type": "code",
   "execution_count": 20,
   "metadata": {},
   "outputs": [
    {
     "name": "stdout",
     "output_type": "stream",
     "text": [
      "tensor([2.0249], device='cuda:0')\n",
      "tensor([2.0249], dtype=torch.float64)\n"
     ]
    }
   ],
   "source": [
    "#is_available函数判断是否有cuda可以使用\n",
    "#``torch.device``将张量移动到指定的设备中\n",
    "if torch.cuda.is_available():\n",
    "    device = torch.device(\"cuda\")            #a CUDA 设备对象\n",
    "    y = torch.ones_like(x, device=device)    #直接从GPU创建张量\n",
    "    x = x.to(device)                         #直接使用``.to（\"cuda\"）``将张量移动到cuda中\n",
    "    z = x + y\n",
    "    print(z)\n",
    "    print(z.to(\"cpu\",torch.double))          #``.to``也会对变量的类型做更改"
   ]
  },
  {
   "cell_type": "markdown",
   "metadata": {},
   "source": [
    "感谢您的浏览"
   ]
  },
  {
   "cell_type": "code",
   "execution_count": null,
   "metadata": {},
   "outputs": [],
   "source": []
  }
 ],
 "metadata": {
  "kernelspec": {
   "display_name": "Python 3",
   "language": "python",
   "name": "python3"
  },
  "language_info": {
   "codemirror_mode": {
    "name": "ipython",
    "version": 3
   },
   "file_extension": ".py",
   "mimetype": "text/x-python",
   "name": "python",
   "nbconvert_exporter": "python",
   "pygments_lexer": "ipython3",
   "version": "3.7.5"
  }
 },
 "nbformat": 4,
 "nbformat_minor": 2
}
